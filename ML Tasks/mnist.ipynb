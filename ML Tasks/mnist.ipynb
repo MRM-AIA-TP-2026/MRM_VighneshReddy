{
 "cells": [
  {
   "cell_type": "code",
   "execution_count": 86,
   "id": "8d185723-e29f-458e-986c-9e40aabac95b",
   "metadata": {},
   "outputs": [],
   "source": [
    "import numpy as np\n",
    "import pandas as pd\n",
    "from scipy.ndimage import rotate, shift, zoom\n",
    "from sklearn.model_selection import train_test_split\n",
    "from sklearn.metrics import accuracy_score, f1_score"
   ]
  },
  {
   "cell_type": "code",
   "execution_count": 87,
   "id": "cd52bf77-5e98-420f-b36e-5382488e4f07",
   "metadata": {},
   "outputs": [],
   "source": [
    "def load_and_split_data(file_path='mnist_train.csv', train_ratio=0.7, val_ratio=0.15):\n",
    "    df = pd.read_csv(file_path)\n",
    "    \n",
    "    X = df.drop('label', axis=1).values / 255.0  \n",
    "    y = df['label'].values\n",
    "\n",
    "    X_train, X_rem, y_train, y_rem = train_test_split(X, y, train_size=train_ratio, random_state=42, shuffle=True)\n",
    "    \n",
    "    test_ratio = 1 - (train_ratio + val_ratio)  \n",
    "    X_val, X_test, y_val, y_test = train_test_split(X_rem, y_rem, test_size=test_ratio / (val_ratio + test_ratio), random_state=42, shuffle=True)\n",
    "    \n",
    "    return X_train, y_train, X_val, y_val, X_test, y_test"
   ]
  },
  {
   "cell_type": "code",
   "execution_count": 88,
   "id": "0452418e-4fe6-4310-bf86-90dae78a7b2c",
   "metadata": {},
   "outputs": [],
   "source": [
    "def augment_rotation(images):\n",
    "    return np.array([rotate(img.reshape(28, 28), np.random.uniform(-15, 15), reshape=False, mode='nearest').flatten()for img in images])\n",
    "\n",
    "def augment_shift(images):\n",
    "    return np.array([shift(img.reshape(28, 28), shift=np.random.randint(-2, 3, size=2), mode='nearest').flatten()for img in images])\n",
    "\n",
    "def augment_flip(images):\n",
    "    return np.array([np.flip(img.reshape(28, 28), axis=np.random.choice([0, 1])).flatten()for img in images])"
   ]
  },
  {
   "cell_type": "code",
   "execution_count": 89,
   "id": "5f01a70a-282d-4aab-9063-3618dd1d3325",
   "metadata": {},
   "outputs": [],
   "source": [
    "def relu(x):\n",
    "    return np.maximum(0, x)\n",
    "\n",
    "def relu_derivative(x):\n",
    "    return np.where(x > 0, 1, 0)\n",
    "\n",
    "def softmax(x):\n",
    "    exp_x = np.exp(x - np.max(x, axis=1, keepdims=True))\n",
    "    return exp_x / np.sum(exp_x, axis=1, keepdims=True)"
   ]
  },
  {
   "cell_type": "code",
   "execution_count": 90,
   "id": "7d768372-0536-4603-81ab-76b6a2d37c20",
   "metadata": {},
   "outputs": [],
   "source": [
    "def initialize_parameters():\n",
    "    input_size = 784\n",
    "    hidden1_size = 256\n",
    "    hidden2_size = 128\n",
    "    output_size = 10\n",
    "    \n",
    "    W1 = np.random.randn(input_size, hidden1_size) * 0.01\n",
    "    b1 = np.zeros((1, hidden1_size))\n",
    "    W2 = np.random.randn(hidden1_size, hidden2_size) * 0.01\n",
    "    b2 = np.zeros((1, hidden2_size))\n",
    "    W3 = np.random.randn(hidden2_size, output_size) * 0.01\n",
    "    b3 = np.zeros((1, output_size))\n",
    "    \n",
    "    return W1, b1, W2, b2, W3, b3"
   ]
  },
  {
   "cell_type": "code",
   "execution_count": 91,
   "id": "677ac841-64ba-47c2-a7b7-f0b4042ce647",
   "metadata": {},
   "outputs": [],
   "source": [
    "def forward_propagation(X, W1, b1, W2, b2, W3, b3):\n",
    "    Z1 = np.dot(X, W1) + b1\n",
    "    A1 = relu(Z1)\n",
    "    Z2 = np.dot(A1, W2) + b2\n",
    "    A2 = relu(Z2)\n",
    "    Z3 = np.dot(A2, W3) + b3\n",
    "    A3 = softmax(Z3)\n",
    "    return Z1, A1, Z2, A2, Z3, A3"
   ]
  },
  {
   "cell_type": "code",
   "execution_count": 92,
   "id": "82988024-9472-4957-a3ae-7b8f879bb57a",
   "metadata": {},
   "outputs": [],
   "source": [
    "def backward_propagation(X, y, Z1, A1, Z2, A2, Z3, A3, W1, W2, W3):\n",
    "    m = X.shape[0]\n",
    "    y_onehot = np.zeros((m, 10))\n",
    "    y_onehot[np.arange(m), y] = 1\n",
    "    \n",
    "    dZ3 = A3 - y_onehot\n",
    "    dW3 = np.dot(A2.T, dZ3) / m\n",
    "    db3 = np.sum(dZ3, axis=0, keepdims=True) / m\n",
    "    \n",
    "    dA2 = np.dot(dZ3, W3.T)\n",
    "    dZ2 = dA2 * relu_derivative(Z2)\n",
    "    dW2 = np.dot(A1.T, dZ2) / m\n",
    "    db2 = np.sum(dZ2, axis=0, keepdims=True) / m\n",
    "    \n",
    "    dA1 = np.dot(dZ2, W2.T)\n",
    "    dZ1 = dA1 * relu_derivative(Z1)\n",
    "    dW1 = np.dot(X.T, dZ1) / m\n",
    "    db1 = np.sum(dZ1, axis=0, keepdims=True) / m\n",
    "    \n",
    "    return dW1, db1, dW2, db2, dW3, db3"
   ]
  },
  {
   "cell_type": "code",
   "execution_count": 93,
   "id": "ffcafab7-284c-4454-91f8-f46b237f96b0",
   "metadata": {},
   "outputs": [],
   "source": [
    "def train(X, y, iter=50, batch_size=64, learning_rate=0.1):\n",
    "    W1, b1, W2, b2, W3, b3 = initialize_parameters()\n",
    "    \n",
    "    n_samples = len(X)\n",
    "    for epoch in range(iter):\n",
    "        perm = np.random.permutation(n_samples)\n",
    "        X_shuffled = X[perm]\n",
    "        y_shuffled = y[perm]\n",
    "        \n",
    "        for i in range(0, n_samples, batch_size):\n",
    "            batch_X = X_shuffled[i:min(i+batch_size, n_samples)]\n",
    "            batch_y = y_shuffled[i:min(i+batch_size, n_samples)]\n",
    "            \n",
    "            Z1, A1, Z2, A2, Z3, A3 = forward_propagation(batch_X, W1, b1, W2, b2, W3, b3)\n",
    "            dW1, db1, dW2, db2, dW3, db3 = backward_propagation(batch_X, batch_y, Z1, A1, Z2, A2, Z3, A3, W1, W2, W3)\n",
    "                                                             \n",
    "            W1 -= learning_rate * dW1\n",
    "            b1 -= learning_rate * db1\n",
    "            W2 -= learning_rate * dW2\n",
    "            b2 -= learning_rate * db2\n",
    "            W3 -= learning_rate * dW3\n",
    "            b3 -= learning_rate * db3\n",
    "    return W1, b1, W2, b2, W3, b3"
   ]
  },
  {
   "cell_type": "code",
   "execution_count": 94,
   "id": "7f38a804-c051-471c-920c-43d89e751042",
   "metadata": {},
   "outputs": [],
   "source": [
    "def predict(X, W1, b1, W2, b2, W3, b3):\n",
    "    _, _, _, _, _, A3 = forward_propagation(X, W1, b1, W2, b2, W3, b3)\n",
    "    return np.argmax(A3, axis=1)"
   ]
  },
  {
   "cell_type": "code",
   "execution_count": 95,
   "id": "e0721043-551e-4e60-81d1-83269b42b755",
   "metadata": {},
   "outputs": [],
   "source": [
    "def evaluate(X, y, W1, b1, W2, b2, W3, b3, split_name):\n",
    "    predictions = predict(X, W1, b1, W2, b2, W3, b3)\n",
    "    acc = accuracy_score(y, predictions)\n",
    "    \n",
    "    print(f\"\\nMetrics for {split_name} split:\")\n",
    "    print(f\"Accuracy: {acc:.4f}\")"
   ]
  },
  {
   "cell_type": "code",
   "execution_count": 96,
   "id": "a00856c0-3e72-421a-898f-04dccbc1ea29",
   "metadata": {},
   "outputs": [
    {
     "name": "stdout",
     "output_type": "stream",
     "text": [
      "\n",
      "Metrics for train split:\n",
      "Accuracy: 1.0000\n",
      "\n",
      "Metrics for validation split:\n",
      "Accuracy: 0.9640\n",
      "\n",
      "Metrics for test split:\n",
      "Accuracy: 0.9513\n"
     ]
    }
   ],
   "source": [
    "X_train, y_train, X_val, y_val, X_test, y_test = load_and_split_data()\n",
    "\n",
    "X_train_rotated = augment_rotation(X_train)\n",
    "X_train_shifted = augment_shift(X_train)\n",
    "X_train_flipped = augment_flip(X_train)\n",
    "\n",
    "X_train_aug = np.concatenate((X_train, X_train_rotated, X_train_shifted, X_train_flipped))\n",
    "y_train_aug = np.concatenate((y_train, y_train, y_train, y_train))\n",
    "\n",
    "\n",
    "W1, b1, W2, b2, W3, b3 = train(X_train_aug, y_train_aug)\n",
    "\n",
    "evaluate(X_train, y_train, W1, b1, W2, b2, W3, b3, \"train\")\n",
    "evaluate(X_val, y_val, W1, b1, W2, b2, W3, b3, \"validation\")\n",
    "evaluate(X_test, y_test, W1, b1, W2, b2, W3, b3, \"test\")"
   ]
  },
  {
   "cell_type": "code",
   "execution_count": null,
   "id": "a1048ee6-7f96-4a0c-941a-45ea6db89a57",
   "metadata": {},
   "outputs": [],
   "source": []
  }
 ],
 "metadata": {
  "kernelspec": {
   "display_name": "Python 3 (ipykernel)",
   "language": "python",
   "name": "python3"
  },
  "language_info": {
   "codemirror_mode": {
    "name": "ipython",
    "version": 3
   },
   "file_extension": ".py",
   "mimetype": "text/x-python",
   "name": "python",
   "nbconvert_exporter": "python",
   "pygments_lexer": "ipython3",
   "version": "3.12.7"
  }
 },
 "nbformat": 4,
 "nbformat_minor": 5
}
